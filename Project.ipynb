{
 "cells": [
  {
   "cell_type": "markdown",
   "metadata": {},
   "source": [
    "# Coronavirus predictions"
   ]
  },
  {
   "cell_type": "code",
   "execution_count": 1,
   "metadata": {},
   "outputs": [],
   "source": [
    "import pandas as pd\n",
    "import numpy as np\n",
    "import matplotlib.pyplot as plt\n"
   ]
  },
  {
   "cell_type": "code",
   "execution_count": 2,
   "metadata": {},
   "outputs": [],
   "source": [
    "df=pd.read_csv('./full_data.csv')"
   ]
  },
  {
   "cell_type": "code",
   "execution_count": 3,
   "metadata": {},
   "outputs": [
    {
     "data": {
      "text/html": [
       "<div>\n",
       "<style scoped>\n",
       "    .dataframe tbody tr th:only-of-type {\n",
       "        vertical-align: middle;\n",
       "    }\n",
       "\n",
       "    .dataframe tbody tr th {\n",
       "        vertical-align: top;\n",
       "    }\n",
       "\n",
       "    .dataframe thead th {\n",
       "        text-align: right;\n",
       "    }\n",
       "</style>\n",
       "<table border=\"1\" class=\"dataframe\">\n",
       "  <thead>\n",
       "    <tr style=\"text-align: right;\">\n",
       "      <th></th>\n",
       "      <th>date</th>\n",
       "      <th>location</th>\n",
       "      <th>new_cases</th>\n",
       "      <th>new_deaths</th>\n",
       "      <th>total_cases</th>\n",
       "      <th>total_deaths</th>\n",
       "    </tr>\n",
       "  </thead>\n",
       "  <tbody>\n",
       "    <tr>\n",
       "      <th>19600</th>\n",
       "      <td>2020-05-22</td>\n",
       "      <td>Zimbabwe</td>\n",
       "      <td>3</td>\n",
       "      <td>0</td>\n",
       "      <td>51</td>\n",
       "      <td>4</td>\n",
       "    </tr>\n",
       "    <tr>\n",
       "      <th>19601</th>\n",
       "      <td>2020-05-23</td>\n",
       "      <td>Zimbabwe</td>\n",
       "      <td>5</td>\n",
       "      <td>0</td>\n",
       "      <td>56</td>\n",
       "      <td>4</td>\n",
       "    </tr>\n",
       "    <tr>\n",
       "      <th>19602</th>\n",
       "      <td>2020-05-24</td>\n",
       "      <td>Zimbabwe</td>\n",
       "      <td>0</td>\n",
       "      <td>0</td>\n",
       "      <td>56</td>\n",
       "      <td>4</td>\n",
       "    </tr>\n",
       "    <tr>\n",
       "      <th>19603</th>\n",
       "      <td>2020-05-25</td>\n",
       "      <td>Zimbabwe</td>\n",
       "      <td>0</td>\n",
       "      <td>0</td>\n",
       "      <td>56</td>\n",
       "      <td>4</td>\n",
       "    </tr>\n",
       "    <tr>\n",
       "      <th>19604</th>\n",
       "      <td>2020-05-26</td>\n",
       "      <td>Zimbabwe</td>\n",
       "      <td>0</td>\n",
       "      <td>0</td>\n",
       "      <td>56</td>\n",
       "      <td>4</td>\n",
       "    </tr>\n",
       "  </tbody>\n",
       "</table>\n",
       "</div>"
      ],
      "text/plain": [
       "             date  location  new_cases  new_deaths  total_cases  total_deaths\n",
       "19600  2020-05-22  Zimbabwe          3           0           51             4\n",
       "19601  2020-05-23  Zimbabwe          5           0           56             4\n",
       "19602  2020-05-24  Zimbabwe          0           0           56             4\n",
       "19603  2020-05-25  Zimbabwe          0           0           56             4\n",
       "19604  2020-05-26  Zimbabwe          0           0           56             4"
      ]
     },
     "execution_count": 3,
     "metadata": {},
     "output_type": "execute_result"
    }
   ],
   "source": [
    "df.tail()"
   ]
  },
  {
   "cell_type": "markdown",
   "metadata": {},
   "source": [
    "## We  want to focus on the data  providing the pandemic evolution"
   ]
  },
  {
   "cell_type": "code",
   "execution_count": 4,
   "metadata": {},
   "outputs": [
    {
     "data": {
      "text/html": [
       "<div>\n",
       "<style scoped>\n",
       "    .dataframe tbody tr th:only-of-type {\n",
       "        vertical-align: middle;\n",
       "    }\n",
       "\n",
       "    .dataframe tbody tr th {\n",
       "        vertical-align: top;\n",
       "    }\n",
       "\n",
       "    .dataframe thead th {\n",
       "        text-align: right;\n",
       "    }\n",
       "</style>\n",
       "<table border=\"1\" class=\"dataframe\">\n",
       "  <thead>\n",
       "    <tr style=\"text-align: right;\">\n",
       "      <th></th>\n",
       "      <th>date</th>\n",
       "      <th>location</th>\n",
       "      <th>new_cases</th>\n",
       "      <th>new_deaths</th>\n",
       "      <th>total_cases</th>\n",
       "      <th>total_deaths</th>\n",
       "    </tr>\n",
       "  </thead>\n",
       "  <tbody>\n",
       "    <tr>\n",
       "      <th>19274</th>\n",
       "      <td>2019-12-31</td>\n",
       "      <td>World</td>\n",
       "      <td>27</td>\n",
       "      <td>0</td>\n",
       "      <td>27</td>\n",
       "      <td>0</td>\n",
       "    </tr>\n",
       "    <tr>\n",
       "      <th>19275</th>\n",
       "      <td>2020-01-01</td>\n",
       "      <td>World</td>\n",
       "      <td>0</td>\n",
       "      <td>0</td>\n",
       "      <td>27</td>\n",
       "      <td>0</td>\n",
       "    </tr>\n",
       "    <tr>\n",
       "      <th>19276</th>\n",
       "      <td>2020-01-02</td>\n",
       "      <td>World</td>\n",
       "      <td>0</td>\n",
       "      <td>0</td>\n",
       "      <td>27</td>\n",
       "      <td>0</td>\n",
       "    </tr>\n",
       "    <tr>\n",
       "      <th>19277</th>\n",
       "      <td>2020-01-03</td>\n",
       "      <td>World</td>\n",
       "      <td>17</td>\n",
       "      <td>0</td>\n",
       "      <td>44</td>\n",
       "      <td>0</td>\n",
       "    </tr>\n",
       "    <tr>\n",
       "      <th>19278</th>\n",
       "      <td>2020-01-04</td>\n",
       "      <td>World</td>\n",
       "      <td>0</td>\n",
       "      <td>0</td>\n",
       "      <td>44</td>\n",
       "      <td>0</td>\n",
       "    </tr>\n",
       "    <tr>\n",
       "      <th>...</th>\n",
       "      <td>...</td>\n",
       "      <td>...</td>\n",
       "      <td>...</td>\n",
       "      <td>...</td>\n",
       "      <td>...</td>\n",
       "      <td>...</td>\n",
       "    </tr>\n",
       "    <tr>\n",
       "      <th>19417</th>\n",
       "      <td>2020-05-22</td>\n",
       "      <td>World</td>\n",
       "      <td>107909</td>\n",
       "      <td>5442</td>\n",
       "      <td>5069366</td>\n",
       "      <td>333399</td>\n",
       "    </tr>\n",
       "    <tr>\n",
       "      <th>19418</th>\n",
       "      <td>2020-05-23</td>\n",
       "      <td>World</td>\n",
       "      <td>106559</td>\n",
       "      <td>4690</td>\n",
       "      <td>5175925</td>\n",
       "      <td>338089</td>\n",
       "    </tr>\n",
       "    <tr>\n",
       "      <th>19419</th>\n",
       "      <td>2020-05-24</td>\n",
       "      <td>World</td>\n",
       "      <td>101131</td>\n",
       "      <td>3989</td>\n",
       "      <td>5277056</td>\n",
       "      <td>342078</td>\n",
       "    </tr>\n",
       "    <tr>\n",
       "      <th>19420</th>\n",
       "      <td>2020-05-25</td>\n",
       "      <td>World</td>\n",
       "      <td>94231</td>\n",
       "      <td>816</td>\n",
       "      <td>5371287</td>\n",
       "      <td>342894</td>\n",
       "    </tr>\n",
       "    <tr>\n",
       "      <th>19421</th>\n",
       "      <td>2020-05-26</td>\n",
       "      <td>World</td>\n",
       "      <td>88239</td>\n",
       "      <td>3100</td>\n",
       "      <td>5459526</td>\n",
       "      <td>345994</td>\n",
       "    </tr>\n",
       "  </tbody>\n",
       "</table>\n",
       "<p>148 rows × 6 columns</p>\n",
       "</div>"
      ],
      "text/plain": [
       "             date location  new_cases  new_deaths  total_cases  total_deaths\n",
       "19274  2019-12-31    World         27           0           27             0\n",
       "19275  2020-01-01    World          0           0           27             0\n",
       "19276  2020-01-02    World          0           0           27             0\n",
       "19277  2020-01-03    World         17           0           44             0\n",
       "19278  2020-01-04    World          0           0           44             0\n",
       "...           ...      ...        ...         ...          ...           ...\n",
       "19417  2020-05-22    World     107909        5442      5069366        333399\n",
       "19418  2020-05-23    World     106559        4690      5175925        338089\n",
       "19419  2020-05-24    World     101131        3989      5277056        342078\n",
       "19420  2020-05-25    World      94231         816      5371287        342894\n",
       "19421  2020-05-26    World      88239        3100      5459526        345994\n",
       "\n",
       "[148 rows x 6 columns]"
      ]
     },
     "execution_count": 4,
     "metadata": {},
     "output_type": "execute_result"
    }
   ],
   "source": [
    "df=df[df['location']=='World']\n",
    "df"
   ]
  },
  {
   "cell_type": "markdown",
   "metadata": {},
   "source": [
    "### We would also would like to filter the data where the number of cases was zero and change the index"
   ]
  },
  {
   "cell_type": "code",
   "execution_count": 5,
   "metadata": {},
   "outputs": [],
   "source": [
    "df=df[df['total_cases']>0]\n",
    "df = df.reset_index(drop=True)\n"
   ]
  },
  {
   "cell_type": "code",
   "execution_count": 6,
   "metadata": {},
   "outputs": [
    {
     "data": {
      "text/html": [
       "<div>\n",
       "<style scoped>\n",
       "    .dataframe tbody tr th:only-of-type {\n",
       "        vertical-align: middle;\n",
       "    }\n",
       "\n",
       "    .dataframe tbody tr th {\n",
       "        vertical-align: top;\n",
       "    }\n",
       "\n",
       "    .dataframe thead th {\n",
       "        text-align: right;\n",
       "    }\n",
       "</style>\n",
       "<table border=\"1\" class=\"dataframe\">\n",
       "  <thead>\n",
       "    <tr style=\"text-align: right;\">\n",
       "      <th></th>\n",
       "      <th>date</th>\n",
       "      <th>location</th>\n",
       "      <th>new_cases</th>\n",
       "      <th>new_deaths</th>\n",
       "      <th>total_cases</th>\n",
       "      <th>total_deaths</th>\n",
       "    </tr>\n",
       "  </thead>\n",
       "  <tbody>\n",
       "    <tr>\n",
       "      <th>0</th>\n",
       "      <td>2019-12-31</td>\n",
       "      <td>World</td>\n",
       "      <td>27</td>\n",
       "      <td>0</td>\n",
       "      <td>27</td>\n",
       "      <td>0</td>\n",
       "    </tr>\n",
       "    <tr>\n",
       "      <th>1</th>\n",
       "      <td>2020-01-01</td>\n",
       "      <td>World</td>\n",
       "      <td>0</td>\n",
       "      <td>0</td>\n",
       "      <td>27</td>\n",
       "      <td>0</td>\n",
       "    </tr>\n",
       "    <tr>\n",
       "      <th>2</th>\n",
       "      <td>2020-01-02</td>\n",
       "      <td>World</td>\n",
       "      <td>0</td>\n",
       "      <td>0</td>\n",
       "      <td>27</td>\n",
       "      <td>0</td>\n",
       "    </tr>\n",
       "    <tr>\n",
       "      <th>3</th>\n",
       "      <td>2020-01-03</td>\n",
       "      <td>World</td>\n",
       "      <td>17</td>\n",
       "      <td>0</td>\n",
       "      <td>44</td>\n",
       "      <td>0</td>\n",
       "    </tr>\n",
       "    <tr>\n",
       "      <th>4</th>\n",
       "      <td>2020-01-04</td>\n",
       "      <td>World</td>\n",
       "      <td>0</td>\n",
       "      <td>0</td>\n",
       "      <td>44</td>\n",
       "      <td>0</td>\n",
       "    </tr>\n",
       "    <tr>\n",
       "      <th>...</th>\n",
       "      <td>...</td>\n",
       "      <td>...</td>\n",
       "      <td>...</td>\n",
       "      <td>...</td>\n",
       "      <td>...</td>\n",
       "      <td>...</td>\n",
       "    </tr>\n",
       "    <tr>\n",
       "      <th>143</th>\n",
       "      <td>2020-05-22</td>\n",
       "      <td>World</td>\n",
       "      <td>107909</td>\n",
       "      <td>5442</td>\n",
       "      <td>5069366</td>\n",
       "      <td>333399</td>\n",
       "    </tr>\n",
       "    <tr>\n",
       "      <th>144</th>\n",
       "      <td>2020-05-23</td>\n",
       "      <td>World</td>\n",
       "      <td>106559</td>\n",
       "      <td>4690</td>\n",
       "      <td>5175925</td>\n",
       "      <td>338089</td>\n",
       "    </tr>\n",
       "    <tr>\n",
       "      <th>145</th>\n",
       "      <td>2020-05-24</td>\n",
       "      <td>World</td>\n",
       "      <td>101131</td>\n",
       "      <td>3989</td>\n",
       "      <td>5277056</td>\n",
       "      <td>342078</td>\n",
       "    </tr>\n",
       "    <tr>\n",
       "      <th>146</th>\n",
       "      <td>2020-05-25</td>\n",
       "      <td>World</td>\n",
       "      <td>94231</td>\n",
       "      <td>816</td>\n",
       "      <td>5371287</td>\n",
       "      <td>342894</td>\n",
       "    </tr>\n",
       "    <tr>\n",
       "      <th>147</th>\n",
       "      <td>2020-05-26</td>\n",
       "      <td>World</td>\n",
       "      <td>88239</td>\n",
       "      <td>3100</td>\n",
       "      <td>5459526</td>\n",
       "      <td>345994</td>\n",
       "    </tr>\n",
       "  </tbody>\n",
       "</table>\n",
       "<p>148 rows × 6 columns</p>\n",
       "</div>"
      ],
      "text/plain": [
       "           date location  new_cases  new_deaths  total_cases  total_deaths\n",
       "0    2019-12-31    World         27           0           27             0\n",
       "1    2020-01-01    World          0           0           27             0\n",
       "2    2020-01-02    World          0           0           27             0\n",
       "3    2020-01-03    World         17           0           44             0\n",
       "4    2020-01-04    World          0           0           44             0\n",
       "..          ...      ...        ...         ...          ...           ...\n",
       "143  2020-05-22    World     107909        5442      5069366        333399\n",
       "144  2020-05-23    World     106559        4690      5175925        338089\n",
       "145  2020-05-24    World     101131        3989      5277056        342078\n",
       "146  2020-05-25    World      94231         816      5371287        342894\n",
       "147  2020-05-26    World      88239        3100      5459526        345994\n",
       "\n",
       "[148 rows x 6 columns]"
      ]
     },
     "execution_count": 6,
     "metadata": {},
     "output_type": "execute_result"
    }
   ],
   "source": [
    "df"
   ]
  },
  {
   "cell_type": "markdown",
   "metadata": {},
   "source": [
    "### Displaying and analyzing infection data"
   ]
  },
  {
   "cell_type": "code",
   "execution_count": 7,
   "metadata": {},
   "outputs": [
    {
     "data": {
      "image/png": "[encoded data removed]",
      "text/plain": [
       "<Figure size 432x288 with 1 Axes>"
      ]
     },
     "metadata": {
      "needs_background": "light"
     },
     "output_type": "display_data"
    }
   ],
   "source": [
    "#How the number of infections evolved\n",
    "plt.plot(df.index.values,df['total_cases'])\n",
    "plt.ylabel('Nr of infections')\n",
    "plt.xlabel('Days from first case')\n",
    "plt.show()"
   ]
  },
  {
   "cell_type": "code",
   "execution_count": 8,
   "metadata": {},
   "outputs": [
    {
     "data": {
      "image/png": "[encoded data removed]",
      "text/plain": [
       "<Figure size 432x288 with 1 Axes>"
      ]
     },
     "metadata": {
      "needs_background": "light"
     },
     "output_type": "display_data"
    }
   ],
   "source": [
    "#How the number of deaths evolved\n",
    "plt.plot(df.index.values,df['total_deaths'])\n",
    "plt.ylabel('Nr of deaths')\n",
    "plt.xlabel('Days from first case')\n",
    "plt.show()"
   ]
  },
  {
   "cell_type": "code",
   "execution_count": 9,
   "metadata": {},
   "outputs": [
    {
     "data": {
      "image/png": "[encoded data removed]",
      "text/plain": [
       "<Figure size 432x288 with 1 Axes>"
      ]
     },
     "metadata": {
      "needs_background": "light"
     },
     "output_type": "display_data"
    }
   ],
   "source": [
    "#for ploting the number of new cases, we will use a bar plot, as it can more easily go down\n",
    "plt.bar(df.index.values,df['new_cases'])\n",
    "plt.ylabel('Nr of new infections per day')\n",
    "plt.xlabel('Days from first case')\n",
    "plt.show()"
   ]
  },
  {
   "cell_type": "code",
   "execution_count": 10,
   "metadata": {},
   "outputs": [
    {
     "data": {
      "image/png": "[encoded data removed]",
      "text/plain": [
       "<Figure size 432x288 with 1 Axes>"
      ]
     },
     "metadata": {
      "needs_background": "light"
     },
     "output_type": "display_data"
    }
   ],
   "source": [
    "#for ploting the number of new deaths, we will use a bar plot, as it can more easily go down\n",
    "plt.bar(df.index.values,df['new_deaths'])\n",
    "plt.ylabel('Nr of new deaths per day')\n",
    "plt.xlabel('Days from first case')\n",
    "plt.show()"
   ]
  },
  {
   "cell_type": "markdown",
   "metadata": {},
   "source": [
    "### Now, we would like to build a model that would predict the evolution of the disease"
   ]
  },
  {
   "cell_type": "code",
   "execution_count": 11,
   "metadata": {},
   "outputs": [],
   "source": [
    "#choose the function\n",
    "from sklearn.linear_model import LinearRegression\n",
    "from sklearn.model_selection import train_test_split\n",
    "from sklearn.metrics import mean_squared_error, r2_score\n",
    "from sklearn.preprocessing import PolynomialFeatures\n",
    "from sklearn.svm import SVR\n",
    "\n",
    "\n",
    "#select the data\n",
    "x=df.index.values.tolist()\n",
    "y=df['total_cases']\n",
    "x = np.array(x) \n",
    "x=x.reshape(-1,1)\n",
    "model=SVR(shrinking=True, kernel='poly',degree=5)\n",
    "\n",
    "\n",
    "\n",
    "\n",
    "x_train, x_test, y_train, y_test = train_test_split(x,y , test_size=0.25,shuffle=False)\n"
   ]
  },
  {
   "cell_type": "code",
   "execution_count": 12,
   "metadata": {},
   "outputs": [
    {
     "name": "stdout",
     "output_type": "stream",
     "text": [
      "0.1526374061375405\n",
      "711387085230.688\n"
     ]
    }
   ],
   "source": [
    "model.fit(x,y)\n",
    "y_predict=model.predict(x_test)\n",
    "print(r2_score(y_test,y_predict))\n",
    "print(mean_squared_error(y_test,y_predict))"
   ]
  },
  {
   "cell_type": "code",
   "execution_count": 13,
   "metadata": {},
   "outputs": [
    {
     "data": {
      "text/plain": [
       "[<matplotlib.lines.Line2D at 0x7f6b4f0e8ac0>]"
      ]
     },
     "execution_count": 13,
     "metadata": {},
     "output_type": "execute_result"
    },
    {
     "data": {
      "image/png": "[encoded data removed]",
      "text/plain": [
       "<Figure size 432x288 with 1 Axes>"
      ]
     },
     "metadata": {
      "needs_background": "light"
     },
     "output_type": "display_data"
    }
   ],
   "source": [
    "plt.plot(x_test,y_predict)"
   ]
  },
  {
   "cell_type": "code",
   "execution_count": 14,
   "metadata": {},
   "outputs": [
    {
     "data": {
      "image/png": "[encoded data removed]",
      "text/plain": [
       "<Figure size 432x288 with 1 Axes>"
      ]
     },
     "metadata": {
      "needs_background": "light"
     },
     "output_type": "display_data"
    }
   ],
   "source": [
    "test_arr=np.arange(1,200).reshape(-1,1)\n",
    "pred_arr=model.predict(test_arr)\n",
    "plt.plot(test_arr,pred_arr,label=\"Prediction\")\n",
    "plt.plot(df.index.values.tolist(),y,'r', label=\"Current data\")\n",
    "plt.legend(loc=\"upper left\")\n",
    "plt.show()"
   ]
  },
  {
   "cell_type": "code",
   "execution_count": 15,
   "metadata": {},
   "outputs": [
    {
     "name": "stdout",
     "output_type": "stream",
     "text": [
      "For degree: 2\n",
      "-16.259185812263592\n",
      "14489619883355.332\n",
      "For degree: 3\n",
      "-15.996492939077289\n",
      "14269081097810.105\n",
      "For degree: 4\n",
      "-13.47565807474103\n",
      "12152762322970.314\n",
      "For degree: 5\n",
      "0.1526374061375405\n",
      "711387085230.688\n",
      "For degree: 6\n",
      "0.19627758412250218\n",
      "674749807115.5894\n",
      "For degree: 7\n",
      "-0.31459740876345843\n",
      "1103645152200.1548\n",
      "For degree: 8\n",
      "-0.8488635984818542\n",
      "1552178129928.8916\n",
      "For degree: 9\n",
      "-1.3991052331384517\n",
      "2014122987403.2852\n",
      "Best degree: 6\n"
     ]
    }
   ],
   "source": [
    "minim=''\n",
    "best=0\n",
    "for d in range(2,10):\n",
    "    model=SVR(shrinking=True, kernel='poly',degree=d)\n",
    "    model.fit(x,y)\n",
    "    y_predict=model.predict(x_test)\n",
    "    r2=r2_score(y_test,y_predict)\n",
    "    s2=mean_squared_error(y_test,y_predict)\n",
    "    print('For degree: ' +str(d))\n",
    "    print(r2)\n",
    "    print(s2)\n",
    "    if minim=='' or s2<minim:\n",
    "        minim=s2\n",
    "        best=d\n",
    "\n",
    "print('Best degree: '+str(best))"
   ]
  },
  {
   "cell_type": "markdown",
   "metadata": {},
   "source": [
    "#### The degree with the best results in the given range would be 6\n"
   ]
  },
  {
   "cell_type": "code",
   "execution_count": 16,
   "metadata": {},
   "outputs": [
    {
     "data": {
      "image/png": "[encoded data removed]",
      "text/plain": [
       "<Figure size 432x288 with 1 Axes>"
      ]
     },
     "metadata": {
      "needs_background": "light"
     },
     "output_type": "display_data"
    }
   ],
   "source": [
    "model=SVR(shrinking=True, kernel='poly',degree=6)\n",
    "model.fit(x,y)\n",
    "\n",
    "test_arr=np.arange(1,150).reshape(-1,1)\n",
    "pred_arr=model.predict(test_arr)\n",
    "plt.plot(test_arr,pred_arr,label=\"Prediction\")\n",
    "plt.plot(df.index.values.tolist(),y,'r', label=\"Current data\")\n",
    "plt.legend(loc=\"upper left\")\n",
    "plt.show()"
   ]
  },
  {
   "cell_type": "code",
   "execution_count": 17,
   "metadata": {},
   "outputs": [],
   "source": [
    "df1=df[80:]"
   ]
  },
  {
   "cell_type": "code",
   "execution_count": 18,
   "metadata": {},
   "outputs": [
    {
     "data": {
      "text/plain": [
       "[<matplotlib.lines.Line2D at 0x7f6b4f012fa0>]"
      ]
     },
     "execution_count": 18,
     "metadata": {},
     "output_type": "execute_result"
    },
    {
     "data": {
      "image/png": "[encoded data removed]",
      "text/plain": [
       "<Figure size 432x288 with 1 Axes>"
      ]
     },
     "metadata": {
      "needs_background": "light"
     },
     "output_type": "display_data"
    }
   ],
   "source": [
    "plt.plot(df1.index.values,df1['total_cases'])"
   ]
  },
  {
   "cell_type": "code",
   "execution_count": 19,
   "metadata": {},
   "outputs": [
    {
     "data": {
      "image/png": "[encoded data removed]",
      "text/plain": [
       "<Figure size 432x288 with 1 Axes>"
      ]
     },
     "metadata": {
      "needs_background": "light"
     },
     "output_type": "display_data"
    }
   ],
   "source": [
    "x1=np.array(df1.index.values.tolist()).reshape(-1,1)\n",
    "y1=df1['total_cases']\n",
    "model1=SVR(shrinking=True, kernel='poly',degree=4)\n",
    "model1.fit(x1,y1)\n",
    "y_predict=model1.predict(np.arange(80,150).reshape(-1,1))\n",
    "plt.plot(np.arange(80,150).reshape(-1,1),y_predict,label=\"Prediction\")\n",
    "plt.plot(df1.index.values.tolist(),y1,'r', label=\"Current data\")\n",
    "plt.legend(loc=\"upper left\")\n",
    "plt.show()"
   ]
  },
  {
   "cell_type": "code",
   "execution_count": 20,
   "metadata": {},
   "outputs": [
    {
     "name": "stdout",
     "output_type": "stream",
     "text": [
      "For degree: 2\n",
      "-38586.144471955035\n",
      "2408917578582.9453\n",
      "For degree: 3\n",
      "-1.3295997088130789\n",
      "893715395081.2692\n",
      "For degree: 4\n",
      "0.9653409324956995\n",
      "76575093556.66203\n",
      "For degree: 5\n",
      "0.9377851774300936\n",
      "139673819433.47235\n",
      "For degree: 6\n",
      "0.8984657179460845\n",
      "219466540563.59726\n",
      "Best degree: 4\n"
     ]
    }
   ],
   "source": [
    "minim=''\n",
    "best=0\n",
    "for d in range(2,7):\n",
    "    model1=SVR(shrinking=True, kernel='poly',degree=d)\n",
    "    model1.fit(x1,y1)\n",
    "    y_predict=model1.predict(x1)\n",
    "    r2=r2_score(y_predict,y1)\n",
    "    s2=mean_squared_error(y_predict,y1)\n",
    "    print('For degree: ' +str(d))\n",
    "    print(r2)\n",
    "    print(s2)\n",
    "    if minim=='' or s2<minim:\n",
    "        minim=s2\n",
    "        best=d\n",
    "\n",
    "print('Best degree: '+str(best))"
   ]
  },
  {
   "cell_type": "code",
   "execution_count": 21,
   "metadata": {},
   "outputs": [
    {
     "data": {
      "image/png": "[encoded data removed]",
      "text/plain": [
       "<Figure size 432x288 with 1 Axes>"
      ]
     },
     "metadata": {
      "needs_background": "light"
     },
     "output_type": "display_data"
    }
   ],
   "source": [
    "x1=np.array(df1.index.values.tolist()).reshape(-1,1)\n",
    "y1=df1['total_cases']\n",
    "model1=SVR(shrinking=True, kernel='poly',degree=4)\n",
    "model1.fit(x1,y1)\n",
    "y_predict=model1.predict(np.arange(80,200).reshape(-1,1))\n",
    "plt.plot(np.arange(80,200).reshape(-1,1),y_predict,label=\"Prediction\")\n",
    "plt.plot(df1.index.values.tolist(),y1,'r', label=\"Current data\")\n",
    "plt.legend(loc=\"upper left\")\n",
    "plt.show()"
   ]
  }
 ],
 "metadata": {
  "kernelspec": {
   "display_name": "Python 3",
   "language": "python",
   "name": "python3"
  },
  "language_info": {
   "codemirror_mode": {
    "name": "ipython",
    "version": 3
   },
   "file_extension": ".py",
   "mimetype": "text/x-python",
   "name": "python",
   "nbconvert_exporter": "python",
   "pygments_lexer": "ipython3",
   "version": "3.8.2"
  }
 },
 "nbformat": 4,
 "nbformat_minor": 2
}
